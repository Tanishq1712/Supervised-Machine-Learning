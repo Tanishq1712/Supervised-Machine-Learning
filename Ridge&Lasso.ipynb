{
  "cells": [
    {
      "attachments": {},
      "cell_type": "markdown",
      "metadata": {
        "id": "aMnHYazoKcdx"
      },
      "source": [
        "Name - Tanishq\n",
        "<br>PRN - 21070126098\n",
        "<br>AIML-B2"
      ]
    },
    {
      "cell_type": "code",
      "execution_count": 1,
      "metadata": {
        "id": "xw9rEfNVKcd2"
      },
      "outputs": [],
      "source": [
        "import pandas as pd"
      ]
    },
    {
      "cell_type": "code",
      "execution_count": 2,
      "metadata": {
        "colab": {
          "base_uri": "https://localhost:8080/",
          "height": 423
        },
        "id": "R_d_H1Q1Kcd5",
        "outputId": "f7d48e54-2a19-4c77-cf94-b44f649e282d"
      },
      "outputs": [
        {
          "data": {
            "text/html": [
              "\n",
              "  <div id=\"df-49d4f399-e09e-4df4-8bd5-2cac6f9b2996\">\n",
              "    <div class=\"colab-df-container\">\n",
              "      <div>\n",
              "<style scoped>\n",
              "    .dataframe tbody tr th:only-of-type {\n",
              "        vertical-align: middle;\n",
              "    }\n",
              "\n",
              "    .dataframe tbody tr th {\n",
              "        vertical-align: top;\n",
              "    }\n",
              "\n",
              "    .dataframe thead th {\n",
              "        text-align: right;\n",
              "    }\n",
              "</style>\n",
              "<table border=\"1\" class=\"dataframe\">\n",
              "  <thead>\n",
              "    <tr style=\"text-align: right;\">\n",
              "      <th></th>\n",
              "      <th>X1</th>\n",
              "      <th>X2</th>\n",
              "      <th>X3</th>\n",
              "      <th>X4</th>\n",
              "      <th>X5</th>\n",
              "      <th>X6</th>\n",
              "      <th>X7</th>\n",
              "      <th>X8</th>\n",
              "      <th>Y1</th>\n",
              "      <th>Y2</th>\n",
              "    </tr>\n",
              "  </thead>\n",
              "  <tbody>\n",
              "    <tr>\n",
              "      <th>0</th>\n",
              "      <td>0.98</td>\n",
              "      <td>514.5</td>\n",
              "      <td>294.0</td>\n",
              "      <td>110.25</td>\n",
              "      <td>7.0</td>\n",
              "      <td>2</td>\n",
              "      <td>0.0</td>\n",
              "      <td>0</td>\n",
              "      <td>15.55</td>\n",
              "      <td>21.33</td>\n",
              "    </tr>\n",
              "    <tr>\n",
              "      <th>1</th>\n",
              "      <td>0.98</td>\n",
              "      <td>514.5</td>\n",
              "      <td>294.0</td>\n",
              "      <td>110.25</td>\n",
              "      <td>7.0</td>\n",
              "      <td>3</td>\n",
              "      <td>0.0</td>\n",
              "      <td>0</td>\n",
              "      <td>15.55</td>\n",
              "      <td>21.33</td>\n",
              "    </tr>\n",
              "    <tr>\n",
              "      <th>2</th>\n",
              "      <td>0.98</td>\n",
              "      <td>514.5</td>\n",
              "      <td>294.0</td>\n",
              "      <td>110.25</td>\n",
              "      <td>7.0</td>\n",
              "      <td>4</td>\n",
              "      <td>0.0</td>\n",
              "      <td>0</td>\n",
              "      <td>15.55</td>\n",
              "      <td>21.33</td>\n",
              "    </tr>\n",
              "    <tr>\n",
              "      <th>3</th>\n",
              "      <td>0.98</td>\n",
              "      <td>514.5</td>\n",
              "      <td>294.0</td>\n",
              "      <td>110.25</td>\n",
              "      <td>7.0</td>\n",
              "      <td>5</td>\n",
              "      <td>0.0</td>\n",
              "      <td>0</td>\n",
              "      <td>15.55</td>\n",
              "      <td>21.33</td>\n",
              "    </tr>\n",
              "    <tr>\n",
              "      <th>4</th>\n",
              "      <td>0.90</td>\n",
              "      <td>563.5</td>\n",
              "      <td>318.5</td>\n",
              "      <td>122.50</td>\n",
              "      <td>7.0</td>\n",
              "      <td>2</td>\n",
              "      <td>0.0</td>\n",
              "      <td>0</td>\n",
              "      <td>20.84</td>\n",
              "      <td>28.28</td>\n",
              "    </tr>\n",
              "    <tr>\n",
              "      <th>...</th>\n",
              "      <td>...</td>\n",
              "      <td>...</td>\n",
              "      <td>...</td>\n",
              "      <td>...</td>\n",
              "      <td>...</td>\n",
              "      <td>...</td>\n",
              "      <td>...</td>\n",
              "      <td>...</td>\n",
              "      <td>...</td>\n",
              "      <td>...</td>\n",
              "    </tr>\n",
              "    <tr>\n",
              "      <th>763</th>\n",
              "      <td>0.64</td>\n",
              "      <td>784.0</td>\n",
              "      <td>343.0</td>\n",
              "      <td>220.50</td>\n",
              "      <td>3.5</td>\n",
              "      <td>5</td>\n",
              "      <td>0.4</td>\n",
              "      <td>5</td>\n",
              "      <td>17.88</td>\n",
              "      <td>21.40</td>\n",
              "    </tr>\n",
              "    <tr>\n",
              "      <th>764</th>\n",
              "      <td>0.62</td>\n",
              "      <td>808.5</td>\n",
              "      <td>367.5</td>\n",
              "      <td>220.50</td>\n",
              "      <td>3.5</td>\n",
              "      <td>2</td>\n",
              "      <td>0.4</td>\n",
              "      <td>5</td>\n",
              "      <td>16.54</td>\n",
              "      <td>16.88</td>\n",
              "    </tr>\n",
              "    <tr>\n",
              "      <th>765</th>\n",
              "      <td>0.62</td>\n",
              "      <td>808.5</td>\n",
              "      <td>367.5</td>\n",
              "      <td>220.50</td>\n",
              "      <td>3.5</td>\n",
              "      <td>3</td>\n",
              "      <td>0.4</td>\n",
              "      <td>5</td>\n",
              "      <td>16.44</td>\n",
              "      <td>17.11</td>\n",
              "    </tr>\n",
              "    <tr>\n",
              "      <th>766</th>\n",
              "      <td>0.62</td>\n",
              "      <td>808.5</td>\n",
              "      <td>367.5</td>\n",
              "      <td>220.50</td>\n",
              "      <td>3.5</td>\n",
              "      <td>4</td>\n",
              "      <td>0.4</td>\n",
              "      <td>5</td>\n",
              "      <td>16.48</td>\n",
              "      <td>16.61</td>\n",
              "    </tr>\n",
              "    <tr>\n",
              "      <th>767</th>\n",
              "      <td>0.62</td>\n",
              "      <td>808.5</td>\n",
              "      <td>367.5</td>\n",
              "      <td>220.50</td>\n",
              "      <td>3.5</td>\n",
              "      <td>5</td>\n",
              "      <td>0.4</td>\n",
              "      <td>5</td>\n",
              "      <td>16.64</td>\n",
              "      <td>16.03</td>\n",
              "    </tr>\n",
              "  </tbody>\n",
              "</table>\n",
              "<p>768 rows × 10 columns</p>\n",
              "</div>\n",
              "      <button class=\"colab-df-convert\" onclick=\"convertToInteractive('df-49d4f399-e09e-4df4-8bd5-2cac6f9b2996')\"\n",
              "              title=\"Convert this dataframe to an interactive table.\"\n",
              "              style=\"display:none;\">\n",
              "        \n",
              "  <svg xmlns=\"http://www.w3.org/2000/svg\" height=\"24px\"viewBox=\"0 0 24 24\"\n",
              "       width=\"24px\">\n",
              "    <path d=\"M0 0h24v24H0V0z\" fill=\"none\"/>\n",
              "    <path d=\"M18.56 5.44l.94 2.06.94-2.06 2.06-.94-2.06-.94-.94-2.06-.94 2.06-2.06.94zm-11 1L8.5 8.5l.94-2.06 2.06-.94-2.06-.94L8.5 2.5l-.94 2.06-2.06.94zm10 10l.94 2.06.94-2.06 2.06-.94-2.06-.94-.94-2.06-.94 2.06-2.06.94z\"/><path d=\"M17.41 7.96l-1.37-1.37c-.4-.4-.92-.59-1.43-.59-.52 0-1.04.2-1.43.59L10.3 9.45l-7.72 7.72c-.78.78-.78 2.05 0 2.83L4 21.41c.39.39.9.59 1.41.59.51 0 1.02-.2 1.41-.59l7.78-7.78 2.81-2.81c.8-.78.8-2.07 0-2.86zM5.41 20L4 18.59l7.72-7.72 1.47 1.35L5.41 20z\"/>\n",
              "  </svg>\n",
              "      </button>\n",
              "      \n",
              "  <style>\n",
              "    .colab-df-container {\n",
              "      display:flex;\n",
              "      flex-wrap:wrap;\n",
              "      gap: 12px;\n",
              "    }\n",
              "\n",
              "    .colab-df-convert {\n",
              "      background-color: #E8F0FE;\n",
              "      border: none;\n",
              "      border-radius: 50%;\n",
              "      cursor: pointer;\n",
              "      display: none;\n",
              "      fill: #1967D2;\n",
              "      height: 32px;\n",
              "      padding: 0 0 0 0;\n",
              "      width: 32px;\n",
              "    }\n",
              "\n",
              "    .colab-df-convert:hover {\n",
              "      background-color: #E2EBFA;\n",
              "      box-shadow: 0px 1px 2px rgba(60, 64, 67, 0.3), 0px 1px 3px 1px rgba(60, 64, 67, 0.15);\n",
              "      fill: #174EA6;\n",
              "    }\n",
              "\n",
              "    [theme=dark] .colab-df-convert {\n",
              "      background-color: #3B4455;\n",
              "      fill: #D2E3FC;\n",
              "    }\n",
              "\n",
              "    [theme=dark] .colab-df-convert:hover {\n",
              "      background-color: #434B5C;\n",
              "      box-shadow: 0px 1px 3px 1px rgba(0, 0, 0, 0.15);\n",
              "      filter: drop-shadow(0px 1px 2px rgba(0, 0, 0, 0.3));\n",
              "      fill: #FFFFFF;\n",
              "    }\n",
              "  </style>\n",
              "\n",
              "      <script>\n",
              "        const buttonEl =\n",
              "          document.querySelector('#df-49d4f399-e09e-4df4-8bd5-2cac6f9b2996 button.colab-df-convert');\n",
              "        buttonEl.style.display =\n",
              "          google.colab.kernel.accessAllowed ? 'block' : 'none';\n",
              "\n",
              "        async function convertToInteractive(key) {\n",
              "          const element = document.querySelector('#df-49d4f399-e09e-4df4-8bd5-2cac6f9b2996');\n",
              "          const dataTable =\n",
              "            await google.colab.kernel.invokeFunction('convertToInteractive',\n",
              "                                                     [key], {});\n",
              "          if (!dataTable) return;\n",
              "\n",
              "          const docLinkHtml = 'Like what you see? Visit the ' +\n",
              "            '<a target=\"_blank\" href=https://colab.research.google.com/notebooks/data_table.ipynb>data table notebook</a>'\n",
              "            + ' to learn more about interactive tables.';\n",
              "          element.innerHTML = '';\n",
              "          dataTable['output_type'] = 'display_data';\n",
              "          await google.colab.output.renderOutput(dataTable, element);\n",
              "          const docLink = document.createElement('div');\n",
              "          docLink.innerHTML = docLinkHtml;\n",
              "          element.appendChild(docLink);\n",
              "        }\n",
              "      </script>\n",
              "    </div>\n",
              "  </div>\n",
              "  "
            ],
            "text/plain": [
              "       X1     X2     X3      X4   X5  X6   X7  X8     Y1     Y2\n",
              "0    0.98  514.5  294.0  110.25  7.0   2  0.0   0  15.55  21.33\n",
              "1    0.98  514.5  294.0  110.25  7.0   3  0.0   0  15.55  21.33\n",
              "2    0.98  514.5  294.0  110.25  7.0   4  0.0   0  15.55  21.33\n",
              "3    0.98  514.5  294.0  110.25  7.0   5  0.0   0  15.55  21.33\n",
              "4    0.90  563.5  318.5  122.50  7.0   2  0.0   0  20.84  28.28\n",
              "..    ...    ...    ...     ...  ...  ..  ...  ..    ...    ...\n",
              "763  0.64  784.0  343.0  220.50  3.5   5  0.4   5  17.88  21.40\n",
              "764  0.62  808.5  367.5  220.50  3.5   2  0.4   5  16.54  16.88\n",
              "765  0.62  808.5  367.5  220.50  3.5   3  0.4   5  16.44  17.11\n",
              "766  0.62  808.5  367.5  220.50  3.5   4  0.4   5  16.48  16.61\n",
              "767  0.62  808.5  367.5  220.50  3.5   5  0.4   5  16.64  16.03\n",
              "\n",
              "[768 rows x 10 columns]"
            ]
          },
          "execution_count": 2,
          "metadata": {},
          "output_type": "execute_result"
        }
      ],
      "source": [
        "df = pd.read_excel(\"ENB2012_data.xlsx\")\n",
        "df"
      ]
    },
    {
      "cell_type": "code",
      "execution_count": 3,
      "metadata": {
        "colab": {
          "base_uri": "https://localhost:8080/",
          "height": 363
        },
        "id": "SwJqKq3zKcd8",
        "outputId": "563fb7a7-4686-41e8-cbdb-29789e2d202d"
      },
      "outputs": [
        {
          "data": {
            "text/html": [
              "\n",
              "  <div id=\"df-1843bd76-fb37-48bc-bd9d-f811996e29ad\">\n",
              "    <div class=\"colab-df-container\">\n",
              "      <div>\n",
              "<style scoped>\n",
              "    .dataframe tbody tr th:only-of-type {\n",
              "        vertical-align: middle;\n",
              "    }\n",
              "\n",
              "    .dataframe tbody tr th {\n",
              "        vertical-align: top;\n",
              "    }\n",
              "\n",
              "    .dataframe thead th {\n",
              "        text-align: right;\n",
              "    }\n",
              "</style>\n",
              "<table border=\"1\" class=\"dataframe\">\n",
              "  <thead>\n",
              "    <tr style=\"text-align: right;\">\n",
              "      <th></th>\n",
              "      <th>X1</th>\n",
              "      <th>X2</th>\n",
              "      <th>X3</th>\n",
              "      <th>X4</th>\n",
              "      <th>X5</th>\n",
              "      <th>X6</th>\n",
              "      <th>X7</th>\n",
              "      <th>X8</th>\n",
              "      <th>Y1</th>\n",
              "      <th>Y2</th>\n",
              "    </tr>\n",
              "  </thead>\n",
              "  <tbody>\n",
              "    <tr>\n",
              "      <th>X1</th>\n",
              "      <td>1.000000e+00</td>\n",
              "      <td>-9.919015e-01</td>\n",
              "      <td>-2.037817e-01</td>\n",
              "      <td>-8.688234e-01</td>\n",
              "      <td>8.277473e-01</td>\n",
              "      <td>4.678592e-17</td>\n",
              "      <td>-2.960552e-15</td>\n",
              "      <td>-7.107006e-16</td>\n",
              "      <td>0.622272</td>\n",
              "      <td>0.634339</td>\n",
              "    </tr>\n",
              "    <tr>\n",
              "      <th>X2</th>\n",
              "      <td>-9.919015e-01</td>\n",
              "      <td>1.000000e+00</td>\n",
              "      <td>1.955016e-01</td>\n",
              "      <td>8.807195e-01</td>\n",
              "      <td>-8.581477e-01</td>\n",
              "      <td>-3.459372e-17</td>\n",
              "      <td>3.636925e-15</td>\n",
              "      <td>2.438409e-15</td>\n",
              "      <td>-0.658120</td>\n",
              "      <td>-0.672999</td>\n",
              "    </tr>\n",
              "    <tr>\n",
              "      <th>X3</th>\n",
              "      <td>-2.037817e-01</td>\n",
              "      <td>1.955016e-01</td>\n",
              "      <td>1.000000e+00</td>\n",
              "      <td>-2.923165e-01</td>\n",
              "      <td>2.809757e-01</td>\n",
              "      <td>-2.429499e-17</td>\n",
              "      <td>-8.567455e-17</td>\n",
              "      <td>2.067384e-16</td>\n",
              "      <td>0.455671</td>\n",
              "      <td>0.427117</td>\n",
              "    </tr>\n",
              "    <tr>\n",
              "      <th>X4</th>\n",
              "      <td>-8.688234e-01</td>\n",
              "      <td>8.807195e-01</td>\n",
              "      <td>-2.923165e-01</td>\n",
              "      <td>1.000000e+00</td>\n",
              "      <td>-9.725122e-01</td>\n",
              "      <td>-5.830058e-17</td>\n",
              "      <td>-1.759011e-15</td>\n",
              "      <td>-1.078071e-15</td>\n",
              "      <td>-0.861828</td>\n",
              "      <td>-0.862547</td>\n",
              "    </tr>\n",
              "    <tr>\n",
              "      <th>X5</th>\n",
              "      <td>8.277473e-01</td>\n",
              "      <td>-8.581477e-01</td>\n",
              "      <td>2.809757e-01</td>\n",
              "      <td>-9.725122e-01</td>\n",
              "      <td>1.000000e+00</td>\n",
              "      <td>4.492205e-17</td>\n",
              "      <td>1.489134e-17</td>\n",
              "      <td>-2.920613e-17</td>\n",
              "      <td>0.889430</td>\n",
              "      <td>0.895785</td>\n",
              "    </tr>\n",
              "    <tr>\n",
              "      <th>X6</th>\n",
              "      <td>4.678592e-17</td>\n",
              "      <td>-3.459372e-17</td>\n",
              "      <td>-2.429499e-17</td>\n",
              "      <td>-5.830058e-17</td>\n",
              "      <td>4.492205e-17</td>\n",
              "      <td>1.000000e+00</td>\n",
              "      <td>-9.406007e-16</td>\n",
              "      <td>-2.549352e-16</td>\n",
              "      <td>-0.002587</td>\n",
              "      <td>0.014290</td>\n",
              "    </tr>\n",
              "    <tr>\n",
              "      <th>X7</th>\n",
              "      <td>-2.960552e-15</td>\n",
              "      <td>3.636925e-15</td>\n",
              "      <td>-8.567455e-17</td>\n",
              "      <td>-1.759011e-15</td>\n",
              "      <td>1.489134e-17</td>\n",
              "      <td>-9.406007e-16</td>\n",
              "      <td>1.000000e+00</td>\n",
              "      <td>2.129642e-01</td>\n",
              "      <td>0.269842</td>\n",
              "      <td>0.207505</td>\n",
              "    </tr>\n",
              "    <tr>\n",
              "      <th>X8</th>\n",
              "      <td>-7.107006e-16</td>\n",
              "      <td>2.438409e-15</td>\n",
              "      <td>2.067384e-16</td>\n",
              "      <td>-1.078071e-15</td>\n",
              "      <td>-2.920613e-17</td>\n",
              "      <td>-2.549352e-16</td>\n",
              "      <td>2.129642e-01</td>\n",
              "      <td>1.000000e+00</td>\n",
              "      <td>0.087368</td>\n",
              "      <td>0.050525</td>\n",
              "    </tr>\n",
              "    <tr>\n",
              "      <th>Y1</th>\n",
              "      <td>6.222719e-01</td>\n",
              "      <td>-6.581199e-01</td>\n",
              "      <td>4.556714e-01</td>\n",
              "      <td>-8.618281e-01</td>\n",
              "      <td>8.894305e-01</td>\n",
              "      <td>-2.586763e-03</td>\n",
              "      <td>2.698417e-01</td>\n",
              "      <td>8.736846e-02</td>\n",
              "      <td>1.000000</td>\n",
              "      <td>0.975862</td>\n",
              "    </tr>\n",
              "    <tr>\n",
              "      <th>Y2</th>\n",
              "      <td>6.343391e-01</td>\n",
              "      <td>-6.729989e-01</td>\n",
              "      <td>4.271170e-01</td>\n",
              "      <td>-8.625466e-01</td>\n",
              "      <td>8.957852e-01</td>\n",
              "      <td>1.428960e-02</td>\n",
              "      <td>2.075050e-01</td>\n",
              "      <td>5.052512e-02</td>\n",
              "      <td>0.975862</td>\n",
              "      <td>1.000000</td>\n",
              "    </tr>\n",
              "  </tbody>\n",
              "</table>\n",
              "</div>\n",
              "      <button class=\"colab-df-convert\" onclick=\"convertToInteractive('df-1843bd76-fb37-48bc-bd9d-f811996e29ad')\"\n",
              "              title=\"Convert this dataframe to an interactive table.\"\n",
              "              style=\"display:none;\">\n",
              "        \n",
              "  <svg xmlns=\"http://www.w3.org/2000/svg\" height=\"24px\"viewBox=\"0 0 24 24\"\n",
              "       width=\"24px\">\n",
              "    <path d=\"M0 0h24v24H0V0z\" fill=\"none\"/>\n",
              "    <path d=\"M18.56 5.44l.94 2.06.94-2.06 2.06-.94-2.06-.94-.94-2.06-.94 2.06-2.06.94zm-11 1L8.5 8.5l.94-2.06 2.06-.94-2.06-.94L8.5 2.5l-.94 2.06-2.06.94zm10 10l.94 2.06.94-2.06 2.06-.94-2.06-.94-.94-2.06-.94 2.06-2.06.94z\"/><path d=\"M17.41 7.96l-1.37-1.37c-.4-.4-.92-.59-1.43-.59-.52 0-1.04.2-1.43.59L10.3 9.45l-7.72 7.72c-.78.78-.78 2.05 0 2.83L4 21.41c.39.39.9.59 1.41.59.51 0 1.02-.2 1.41-.59l7.78-7.78 2.81-2.81c.8-.78.8-2.07 0-2.86zM5.41 20L4 18.59l7.72-7.72 1.47 1.35L5.41 20z\"/>\n",
              "  </svg>\n",
              "      </button>\n",
              "      \n",
              "  <style>\n",
              "    .colab-df-container {\n",
              "      display:flex;\n",
              "      flex-wrap:wrap;\n",
              "      gap: 12px;\n",
              "    }\n",
              "\n",
              "    .colab-df-convert {\n",
              "      background-color: #E8F0FE;\n",
              "      border: none;\n",
              "      border-radius: 50%;\n",
              "      cursor: pointer;\n",
              "      display: none;\n",
              "      fill: #1967D2;\n",
              "      height: 32px;\n",
              "      padding: 0 0 0 0;\n",
              "      width: 32px;\n",
              "    }\n",
              "\n",
              "    .colab-df-convert:hover {\n",
              "      background-color: #E2EBFA;\n",
              "      box-shadow: 0px 1px 2px rgba(60, 64, 67, 0.3), 0px 1px 3px 1px rgba(60, 64, 67, 0.15);\n",
              "      fill: #174EA6;\n",
              "    }\n",
              "\n",
              "    [theme=dark] .colab-df-convert {\n",
              "      background-color: #3B4455;\n",
              "      fill: #D2E3FC;\n",
              "    }\n",
              "\n",
              "    [theme=dark] .colab-df-convert:hover {\n",
              "      background-color: #434B5C;\n",
              "      box-shadow: 0px 1px 3px 1px rgba(0, 0, 0, 0.15);\n",
              "      filter: drop-shadow(0px 1px 2px rgba(0, 0, 0, 0.3));\n",
              "      fill: #FFFFFF;\n",
              "    }\n",
              "  </style>\n",
              "\n",
              "      <script>\n",
              "        const buttonEl =\n",
              "          document.querySelector('#df-1843bd76-fb37-48bc-bd9d-f811996e29ad button.colab-df-convert');\n",
              "        buttonEl.style.display =\n",
              "          google.colab.kernel.accessAllowed ? 'block' : 'none';\n",
              "\n",
              "        async function convertToInteractive(key) {\n",
              "          const element = document.querySelector('#df-1843bd76-fb37-48bc-bd9d-f811996e29ad');\n",
              "          const dataTable =\n",
              "            await google.colab.kernel.invokeFunction('convertToInteractive',\n",
              "                                                     [key], {});\n",
              "          if (!dataTable) return;\n",
              "\n",
              "          const docLinkHtml = 'Like what you see? Visit the ' +\n",
              "            '<a target=\"_blank\" href=https://colab.research.google.com/notebooks/data_table.ipynb>data table notebook</a>'\n",
              "            + ' to learn more about interactive tables.';\n",
              "          element.innerHTML = '';\n",
              "          dataTable['output_type'] = 'display_data';\n",
              "          await google.colab.output.renderOutput(dataTable, element);\n",
              "          const docLink = document.createElement('div');\n",
              "          docLink.innerHTML = docLinkHtml;\n",
              "          element.appendChild(docLink);\n",
              "        }\n",
              "      </script>\n",
              "    </div>\n",
              "  </div>\n",
              "  "
            ],
            "text/plain": [
              "              X1            X2            X3            X4            X5  \\\n",
              "X1  1.000000e+00 -9.919015e-01 -2.037817e-01 -8.688234e-01  8.277473e-01   \n",
              "X2 -9.919015e-01  1.000000e+00  1.955016e-01  8.807195e-01 -8.581477e-01   \n",
              "X3 -2.037817e-01  1.955016e-01  1.000000e+00 -2.923165e-01  2.809757e-01   \n",
              "X4 -8.688234e-01  8.807195e-01 -2.923165e-01  1.000000e+00 -9.725122e-01   \n",
              "X5  8.277473e-01 -8.581477e-01  2.809757e-01 -9.725122e-01  1.000000e+00   \n",
              "X6  4.678592e-17 -3.459372e-17 -2.429499e-17 -5.830058e-17  4.492205e-17   \n",
              "X7 -2.960552e-15  3.636925e-15 -8.567455e-17 -1.759011e-15  1.489134e-17   \n",
              "X8 -7.107006e-16  2.438409e-15  2.067384e-16 -1.078071e-15 -2.920613e-17   \n",
              "Y1  6.222719e-01 -6.581199e-01  4.556714e-01 -8.618281e-01  8.894305e-01   \n",
              "Y2  6.343391e-01 -6.729989e-01  4.271170e-01 -8.625466e-01  8.957852e-01   \n",
              "\n",
              "              X6            X7            X8        Y1        Y2  \n",
              "X1  4.678592e-17 -2.960552e-15 -7.107006e-16  0.622272  0.634339  \n",
              "X2 -3.459372e-17  3.636925e-15  2.438409e-15 -0.658120 -0.672999  \n",
              "X3 -2.429499e-17 -8.567455e-17  2.067384e-16  0.455671  0.427117  \n",
              "X4 -5.830058e-17 -1.759011e-15 -1.078071e-15 -0.861828 -0.862547  \n",
              "X5  4.492205e-17  1.489134e-17 -2.920613e-17  0.889430  0.895785  \n",
              "X6  1.000000e+00 -9.406007e-16 -2.549352e-16 -0.002587  0.014290  \n",
              "X7 -9.406007e-16  1.000000e+00  2.129642e-01  0.269842  0.207505  \n",
              "X8 -2.549352e-16  2.129642e-01  1.000000e+00  0.087368  0.050525  \n",
              "Y1 -2.586763e-03  2.698417e-01  8.736846e-02  1.000000  0.975862  \n",
              "Y2  1.428960e-02  2.075050e-01  5.052512e-02  0.975862  1.000000  "
            ]
          },
          "execution_count": 3,
          "metadata": {},
          "output_type": "execute_result"
        }
      ],
      "source": [
        "df.corr()"
      ]
    },
    {
      "cell_type": "code",
      "execution_count": 4,
      "metadata": {
        "colab": {
          "base_uri": "https://localhost:8080/",
          "height": 613
        },
        "id": "AUs9DhTxKcd9",
        "outputId": "bf1ff0b6-d125-45e2-e396-5ad1c5f023e5"
      },
      "outputs": [
        {
          "data": {
            "text/plain": [
              "<AxesSubplot:>"
            ]
          },
          "execution_count": 4,
          "metadata": {},
          "output_type": "execute_result"
        },
        {
          "data": {
            "image/png": "[encoded data removed]",
            "text/plain": [
              "<Figure size 720x720 with 2 Axes>"
            ]
          },
          "metadata": {
            "needs_background": "light"
          },
          "output_type": "display_data"
        }
      ],
      "source": [
        "import matplotlib.pyplot as plt\n",
        "import seaborn as sns\n",
        "\n",
        "plt.figure(figsize=(10,10))\n",
        "sns.heatmap(df.corr(), annot=True)"
      ]
    },
    {
      "cell_type": "code",
      "execution_count": 5,
      "metadata": {
        "colab": {
          "base_uri": "https://localhost:8080/",
          "height": 623
        },
        "id": "rDuRYAUJKcd-",
        "outputId": "d4c35145-8bc7-4c9c-83a5-ba20fff6aabc"
      },
      "outputs": [
        {
          "data": {
            "text/plain": [
              "<AxesSubplot:xlabel='X2', ylabel='Y2'>"
            ]
          },
          "execution_count": 5,
          "metadata": {},
          "output_type": "execute_result"
        },
        {
          "data": {
            "image/png": "[encoded data removed]",
            "text/plain": [
              "<Figure size 720x720 with 1 Axes>"
            ]
          },
          "metadata": {
            "needs_background": "light"
          },
          "output_type": "display_data"
        }
      ],
      "source": [
        "import matplotlib.pyplot as plt\n",
        "import seaborn as sns\n",
        "\n",
        "plt.figure(figsize=(10,10))\n",
        "sns.scatterplot(data=df, x='X2', y='Y2')"
      ]
    },
    {
      "cell_type": "code",
      "execution_count": 6,
      "metadata": {
        "colab": {
          "base_uri": "https://localhost:8080/",
          "height": 574
        },
        "id": "0gEJZXX0Kcd_",
        "outputId": "0e75e619-d98d-41b3-b3a9-3176602a1bf1"
      },
      "outputs": [
        {
          "data": {
            "image/png": "[encoded data removed]",
            "text/plain": [
              "<Figure size 2160x1080 with 12 Axes>"
            ]
          },
          "metadata": {
            "needs_background": "light"
          },
          "output_type": "display_data"
        }
      ],
      "source": [
        "df.hist(figsize = (30,15))\n",
        "plt.show()"
      ]
    },
    {
      "cell_type": "code",
      "execution_count": 7,
      "metadata": {
        "colab": {
          "base_uri": "https://localhost:8080/",
          "height": 1000
        },
        "id": "83RhXc8UKcd_",
        "outputId": "d0bb37f1-b1d0-4846-a5a3-84e320f7e7b8"
      },
      "outputs": [
        {
          "data": {
            "image/png": "[encoded data removed]",
            "text/plain": [
              "<Figure size 1080x1440 with 10 Axes>"
            ]
          },
          "metadata": {
            "needs_background": "light"
          },
          "output_type": "display_data"
        }
      ],
      "source": [
        "fig, axes = plt.subplots( figsize=(15, 20))\n",
        "fig.suptitle('Differential Observation Analysis of Numerical Variables with Boxplot')\n",
        "\n",
        "plt.subplot(5,2,1)\n",
        "sns.boxplot(x=df[\"X1\"])\n",
        "\n",
        "plt.subplot(5,2,2)\n",
        "sns.boxplot(x=df[\"X2\"])\n",
        "\n",
        "plt.subplot(5,2,3)\n",
        "sns.boxplot(x=df[\"X3\"])\n",
        "\n",
        "plt.subplot(5,2,4)\n",
        "sns.boxplot(x=df[\"X4\"])\n",
        "\n",
        "plt.subplot(5,2,5)\n",
        "sns.boxplot(x=df[\"X5\"])\n",
        "\n",
        "plt.subplot(5,2,6)\n",
        "sns.boxplot(x=df[\"X6\"])\n",
        "\n",
        "plt.subplot(5,2,7)\n",
        "sns.boxplot(x=df[\"X7\"])\n",
        "\n",
        "plt.subplot(5,2,8)\n",
        "sns.boxplot(x=df[\"X8\"])\n",
        "\n",
        "plt.subplot(5,2,9)\n",
        "sns.boxplot(x=df[\"Y1\"])\n",
        "\n",
        "plt.subplot(5,2,10)\n",
        "sns.boxplot(x=df[\"Y2\"])\n",
        "\n",
        "plt.show()"
      ]
    },
    {
      "cell_type": "code",
      "execution_count": 8,
      "metadata": {
        "id": "eEvjeU-iKceA"
      },
      "outputs": [],
      "source": [
        "from sklearn.model_selection import train_test_split\n",
        "\n",
        "x = df.iloc[:,:8] \n",
        "y = df.iloc[:,8:] \n",
        "\n",
        "x_train, x_test, y_train, y_test = train_test_split(x,y, test_size=0.3, random_state=42)"
      ]
    },
    {
      "cell_type": "code",
      "execution_count": 9,
      "metadata": {
        "colab": {
          "base_uri": "https://localhost:8080/"
        },
        "id": "CdBZIWutKceB",
        "outputId": "633b64a6-1676-48f9-c48a-9f2cbf7dd984"
      },
      "outputs": [
        {
          "data": {
            "text/plain": [
              "(537, 8)"
            ]
          },
          "execution_count": 9,
          "metadata": {},
          "output_type": "execute_result"
        }
      ],
      "source": [
        "x_train.shape"
      ]
    },
    {
      "cell_type": "code",
      "execution_count": 10,
      "metadata": {
        "colab": {
          "base_uri": "https://localhost:8080/"
        },
        "id": "41Mzzo8aKceB",
        "outputId": "f5c02a72-c261-4923-cb9b-db45effdbd18"
      },
      "outputs": [
        {
          "data": {
            "text/plain": [
              "(231, 8)"
            ]
          },
          "execution_count": 10,
          "metadata": {},
          "output_type": "execute_result"
        }
      ],
      "source": [
        "x_test.shape"
      ]
    },
    {
      "cell_type": "code",
      "execution_count": 11,
      "metadata": {
        "id": "B64f9bE6KceC"
      },
      "outputs": [],
      "source": [
        "from sklearn.preprocessing import StandardScaler\n",
        "\n",
        "scaler = StandardScaler()\n",
        "\n",
        "x_train = scaler.fit_transform(x_train)\n",
        "x_test = scaler.fit_transform(x_test)"
      ]
    },
    {
      "cell_type": "code",
      "execution_count": 12,
      "metadata": {
        "colab": {
          "base_uri": "https://localhost:8080/"
        },
        "id": "CccDIgYLKceC",
        "outputId": "e5ff9ea7-96bb-4f44-f9f0-ee8c7f3bc530"
      },
      "outputs": [
        {
          "data": {
            "text/plain": [
              "LinearRegression()"
            ]
          },
          "execution_count": 12,
          "metadata": {},
          "output_type": "execute_result"
        }
      ],
      "source": [
        "from sklearn.linear_model import LinearRegression\n",
        "\n",
        "lr = LinearRegression()\n",
        "\n",
        "lr.fit(x_train, y_train)"
      ]
    },
    {
      "cell_type": "code",
      "execution_count": 13,
      "metadata": {
        "colab": {
          "base_uri": "https://localhost:8080/"
        },
        "id": "hcdfuPczKceD",
        "outputId": "bc2a019b-3bdd-4819-db42-104912bda05a"
      },
      "outputs": [
        {
          "name": "stdout",
          "output_type": "stream",
          "text": [
            "Train Score : 0.9026379224548287\n",
            "Test  Score : 0.8912863062954878\n"
          ]
        }
      ],
      "source": [
        "actual = y_test\n",
        "train_score_lr = lr.score(x_train, y_train)\n",
        "test_score_lr = lr.score(x_test, y_test)\n",
        "print(f\"Train Score : {train_score_lr}\")\n",
        "print(f\"Test  Score : {test_score_lr}\")"
      ]
    },
    {
      "cell_type": "markdown",
      "metadata": {
        "id": "2z7ybYnoKceD"
      },
      "source": [
        "**Ridge**"
      ]
    },
    {
      "cell_type": "code",
      "execution_count": 14,
      "metadata": {
        "colab": {
          "base_uri": "https://localhost:8080/"
        },
        "id": "-cG20rGRKceE",
        "outputId": "e7e5cd77-62e8-451c-870a-8f88aecb7661"
      },
      "outputs": [
        {
          "data": {
            "text/plain": [
              "Ridge(alpha=10)"
            ]
          },
          "execution_count": 14,
          "metadata": {},
          "output_type": "execute_result"
        }
      ],
      "source": [
        "from sklearn.linear_model import Ridge, RidgeCV\n",
        "\n",
        "ridgeReg = Ridge(alpha=10)\n",
        "\n",
        "ridgeReg.fit(x_train, y_train)"
      ]
    },
    {
      "cell_type": "code",
      "execution_count": 15,
      "metadata": {
        "colab": {
          "base_uri": "https://localhost:8080/"
        },
        "id": "ZmmQ6VEPKceE",
        "outputId": "8818cd8c-8f57-4a20-b98a-da80deb55c6b"
      },
      "outputs": [
        {
          "name": "stdout",
          "output_type": "stream",
          "text": [
            "Ridge Train score = 0.8988148679661003\n",
            "Ridge Test  Score = 0.8862363127766171\n"
          ]
        }
      ],
      "source": [
        "train_score_rr = ridgeReg.score(x_train, y_train)\n",
        "test_score_rr = ridgeReg.score(x_test, y_test)\n",
        "print(f\"Ridge Train score = {train_score_rr}\")\n",
        "print(f\"Ridge Test  Score = {test_score_rr}\")"
      ]
    },
    {
      "cell_type": "markdown",
      "metadata": {
        "id": "v_3Ok5KrKceF"
      },
      "source": [
        "**Lasso**"
      ]
    },
    {
      "cell_type": "code",
      "execution_count": 16,
      "metadata": {
        "colab": {
          "base_uri": "https://localhost:8080/"
        },
        "id": "J-br0Qf5KceF",
        "outputId": "31972226-0056-4f64-ff95-ca95f7bd3d6d"
      },
      "outputs": [
        {
          "data": {
            "text/plain": [
              "Lasso(alpha=10)"
            ]
          },
          "execution_count": 16,
          "metadata": {},
          "output_type": "execute_result"
        }
      ],
      "source": [
        "from sklearn.linear_model import Lasso\n",
        "\n",
        "lasso = Lasso(alpha = 10)\n",
        "\n",
        "lasso.fit(x_train, y_train)"
      ]
    },
    {
      "cell_type": "code",
      "execution_count": 17,
      "metadata": {
        "colab": {
          "base_uri": "https://localhost:8080/"
        },
        "id": "_UId8uFtKceF",
        "outputId": "d064cb59-f385-4c3f-dc99-9b4d3386db26"
      },
      "outputs": [
        {
          "name": "stdout",
          "output_type": "stream",
          "text": [
            "2.7755575615628914e-16\n",
            "-0.00911908788409721\n"
          ]
        }
      ],
      "source": [
        "train_score_ls = lasso.score(x_train, y_train)\n",
        "test_score_ls = lasso.score(x_test, y_test)\n",
        "print(train_score_ls)\n",
        "print(test_score_ls)"
      ]
    },
    {
      "cell_type": "markdown",
      "metadata": {
        "id": "h53JI4BaKceG"
      },
      "source": [
        "**LassoCV**"
      ]
    },
    {
      "cell_type": "code",
      "execution_count": 18,
      "metadata": {
        "colab": {
          "base_uri": "https://localhost:8080/"
        },
        "id": "x_Do7CYnKceG",
        "outputId": "66653c69-d86e-423d-bb24-d133ed651be9"
      },
      "outputs": [
        {
          "name": "stderr",
          "output_type": "stream",
          "text": [
            "/usr/local/lib/python3.8/dist-packages/sklearn/linear_model/_coordinate_descent.py:625: ConvergenceWarning: Objective did not converge. You might want to increase the number of iterations. Duality gap: 35.81088468223879, tolerance: 8.288982419580421\n",
            "  model = cd_fast.enet_coordinate_descent_multi_task(\n",
            "/usr/local/lib/python3.8/dist-packages/sklearn/linear_model/_coordinate_descent.py:625: ConvergenceWarning: Objective did not converge. You might want to increase the number of iterations. Duality gap: 11.505667609271768, tolerance: 7.8985838802331\n",
            "  model = cd_fast.enet_coordinate_descent_multi_task(\n",
            "/usr/local/lib/python3.8/dist-packages/sklearn/linear_model/_coordinate_descent.py:625: ConvergenceWarning: Objective did not converge. You might want to increase the number of iterations. Duality gap: 18.966860976164753, tolerance: 8.18581454595349\n",
            "  model = cd_fast.enet_coordinate_descent_multi_task(\n",
            "/usr/local/lib/python3.8/dist-packages/sklearn/linear_model/_coordinate_descent.py:625: ConvergenceWarning: Objective did not converge. You might want to increase the number of iterations. Duality gap: 11.728615091344182, tolerance: 8.24766857260465\n",
            "  model = cd_fast.enet_coordinate_descent_multi_task(\n",
            "/usr/local/lib/python3.8/dist-packages/sklearn/linear_model/_coordinate_descent.py:625: ConvergenceWarning: Objective did not converge. You might want to increase the number of iterations. Duality gap: 20.91821834591792, tolerance: 8.541791276116282\n",
            "  model = cd_fast.enet_coordinate_descent_multi_task(\n",
            "/usr/local/lib/python3.8/dist-packages/sklearn/linear_model/_coordinate_descent.py:2441: ConvergenceWarning: Objective did not converge. You might want to increase the number of iterations. Duality gap: 247.13762759184192, tolerance: 10.298236402048419\n",
            "  ) = cd_fast.enet_coordinate_descent_multi_task(\n"
          ]
        },
        {
          "data": {
            "text/plain": [
              "MultiTaskLassoCV(alphas=[0.0001, 0.001, 0.1, 1, 10], random_state=0)"
            ]
          },
          "execution_count": 18,
          "metadata": {},
          "output_type": "execute_result"
        }
      ],
      "source": [
        "from sklearn.linear_model import MultiTaskLassoCV\n",
        "\n",
        "lasso_cv = MultiTaskLassoCV(alphas = [0.0001, 0.001, 0.1, 1, 10], random_state = 0)\n",
        "lasso_cv.fit(x_train, y_train)"
      ]
    },
    {
      "cell_type": "code",
      "execution_count": 19,
      "metadata": {
        "colab": {
          "base_uri": "https://localhost:8080/"
        },
        "id": "5NIpmStPKceH",
        "outputId": "82ddf886-9dfa-470f-e673-f77686b74afa"
      },
      "outputs": [
        {
          "name": "stdout",
          "output_type": "stream",
          "text": [
            "0.9026379014308117\n",
            "0.8912266391669548\n"
          ]
        }
      ],
      "source": [
        "train_score_lscv = lasso_cv.score(x_train, y_train)\n",
        "test_score_lscv = lasso_cv.score(x_test, y_test)\n",
        "print(train_score_lscv)\n",
        "print(test_score_lscv)"
      ]
    }
  ],
  "metadata": {
    "colab": {
      "provenance": []
    },
    "kernelspec": {
      "display_name": "base",
      "language": "python",
      "name": "python3"
    },
    "language_info": {
      "codemirror_mode": {
        "name": "ipython",
        "version": 3
      },
      "file_extension": ".py",
      "mimetype": "text/x-python",
      "name": "python",
      "nbconvert_exporter": "python",
      "pygments_lexer": "ipython3",
      "version": "3.8.15"
    },
    "orig_nbformat": 4,
    "vscode": {
      "interpreter": {
        "hash": "92970f67b726f11d7a4bcd6d4be45852f799f6a2706746339d81f115df8632ba"
      }
    }
  },
  "nbformat": 4,
  "nbformat_minor": 0
}
