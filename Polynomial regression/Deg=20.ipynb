{
  "nbformat": 4,
  "nbformat_minor": 0,
  "metadata": {
    "colab": {
      "provenance": []
    },
    "kernelspec": {
      "name": "python3",
      "display_name": "Python 3"
    },
    "language_info": {
      "name": "python"
    }
  },
  "cells": [
    {
      "cell_type": "code",
      "execution_count": 1,
      "metadata": {
        "colab": {
          "base_uri": "https://localhost:8080/",
          "height": 265
        },
        "id": "YP_xMvVnxcys",
        "outputId": "ed215488-4d73-48b9-d5a7-5bd6c49ef4ca"
      },
      "outputs": [
        {
          "output_type": "display_data",
          "data": {
            "text/plain": [
              "<Figure size 432x288 with 1 Axes>"
            ],
            "image/png": "[encoded data removed]"
          },
          "metadata": {
            "needs_background": "light"
          }
        }
      ],
      "source": [
        "import numpy as np\n",
        "import matplotlib.pyplot as plt\n",
        "\n",
        "np.random.seed(0)\n",
        "x = 2 - 3 * np.random.normal(0, 1, 20)\n",
        "y = x - 2 * (x ** 2) + 0.5 * (x ** 3) + np.random.normal(-3, 3, 20)\n",
        "plt.scatter(x,y, s=10)\n",
        "plt.show()"
      ]
    },
    {
      "cell_type": "code",
      "source": [
        "import numpy as np\n",
        "import matplotlib.pyplot as plt\n",
        "\n",
        "from sklearn.linear_model import LinearRegression\n",
        "\n",
        "np.random.seed(0)\n",
        "x = 2 - 3 * np.random.normal(0, 1, 20)\n",
        "y = x - 2 * (x ** 2) + 0.5 * (x ** 3) + np.random.normal(-3, 3, 20)\n",
        "\n",
        "# transforming the data to include another axis\n",
        "x = x[:, np.newaxis]\n",
        "y = y[:, np.newaxis]\n",
        "\n",
        "model = LinearRegression()\n",
        "model.fit(x, y)\n",
        "y_pred = model.predict(x)\n",
        "\n",
        "plt.scatter(x, y, s=10)\n",
        "plt.plot(x, y_pred, color='r')\n",
        "plt.show()\n",
        "\n",
        "#The plot of the best fit line is shown below"
      ],
      "metadata": {
        "colab": {
          "base_uri": "https://localhost:8080/",
          "height": 265
        },
        "id": "5kfW3mIsxgOM",
        "outputId": "897e6457-1cdd-4466-9c05-8c97d510f5e8"
      },
      "execution_count": 2,
      "outputs": [
        {
          "output_type": "display_data",
          "data": {
            "text/plain": [
              "<Figure size 432x288 with 1 Axes>"
            ],
            "image/png": "[encoded data removed]"
          },
          "metadata": {
            "needs_background": "light"
          }
        }
      ]
    },
    {
      "cell_type": "code",
      "source": [
        "import operator\n",
        "\n",
        "import numpy as np\n",
        "import matplotlib.pyplot as plt\n",
        "\n",
        "from sklearn.linear_model import LinearRegression\n",
        "from sklearn.metrics import mean_squared_error, r2_score\n",
        "from sklearn.preprocessing import PolynomialFeatures\n",
        "\n",
        "np.random.seed(0)\n",
        "x = 2 - 3 * np.random.normal(0, 1, 20)\n",
        "y = x - 2 * (x ** 2) + 0.5 * (x ** 3) + np.random.normal(-3, 3, 20)\n",
        "\n",
        "# transforming the data to include another axis\n",
        "x = x[:, np.newaxis]\n",
        "y = y[:, np.newaxis]\n",
        "\n",
        "polynomial_features= PolynomialFeatures(degree=20)\n",
        "x_poly = polynomial_features.fit_transform(x)\n",
        "\n",
        "model = LinearRegression()\n",
        "model.fit(x_poly, y)\n",
        "y_poly_pred = model.predict(x_poly)\n",
        "\n",
        "rmse = np.sqrt(mean_squared_error(y,y_poly_pred))\n",
        "r2 = r2_score(y,y_poly_pred)\n",
        "print(rmse)\n",
        "print(r2)\n",
        "\n",
        "plt.scatter(x, y, s=10)\n",
        "# sort the values of x before line plot\n",
        "sort_axis = operator.itemgetter(0)\n",
        "sorted_zip = sorted(zip(x,y_poly_pred), key=sort_axis)\n",
        "x, y_poly_pred = zip(*sorted_zip)\n",
        "plt.plot(x, y_poly_pred, color='m')\n",
        "plt.show()"
      ],
      "metadata": {
        "colab": {
          "base_uri": "https://localhost:8080/",
          "height": 299
        },
        "id": "fHG67X6rxigz",
        "outputId": "b8592bc4-ab58-494e-ed36-63ab14205c98"
      },
      "execution_count": 3,
      "outputs": [
        {
          "output_type": "stream",
          "name": "stdout",
          "text": [
            "1.1131604487933962\n",
            "0.9982308317618072\n"
          ]
        },
        {
          "output_type": "display_data",
          "data": {
            "text/plain": [
              "<Figure size 432x288 with 1 Axes>"
            ],
            "image/png": "[encoded data removed]"
          },
          "metadata": {
            "needs_background": "light"
          }
        }
      ]
    },
    {
      "cell_type": "code",
      "source": [],
      "metadata": {
        "id": "OBAM2j3QxnIp"
      },
      "execution_count": null,
      "outputs": []
    }
  ]
}